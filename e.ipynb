{
 "cells": [
  {
   "cell_type": "code",
   "execution_count": 9,
   "metadata": {},
   "outputs": [
    {
     "name": "stdout",
     "output_type": "stream",
     "text": [
      "Requirement already satisfied: pandas in ./.venv/lib/python3.10/site-packages (1.5.3)\n",
      "Requirement already satisfied: pytz>=2020.1 in ./.venv/lib/python3.10/site-packages (from pandas) (2022.7.1)\n",
      "Requirement already satisfied: python-dateutil>=2.8.1 in ./.venv/lib/python3.10/site-packages (from pandas) (2.8.2)\n",
      "Requirement already satisfied: numpy>=1.21.0 in ./.venv/lib/python3.10/site-packages (from pandas) (1.24.2)\n",
      "Requirement already satisfied: six>=1.5 in ./.venv/lib/python3.10/site-packages (from python-dateutil>=2.8.1->pandas) (1.16.0)\n",
      "Note: you may need to restart the kernel to use updated packages.\n",
      "Requirement already satisfied: numpy in ./.venv/lib/python3.10/site-packages (1.24.2)\n",
      "Note: you may need to restart the kernel to use updated packages.\n",
      "Requirement already satisfied: openpyxl in ./.venv/lib/python3.10/site-packages (3.1.1)\n",
      "Requirement already satisfied: et-xmlfile in ./.venv/lib/python3.10/site-packages (from openpyxl) (1.1.0)\n",
      "Note: you may need to restart the kernel to use updated packages.\n"
     ]
    }
   ],
   "source": [
    "%pip install pandas\n",
    "%pip install numpy\n",
    "%pip install openpyxl\n",
    "import pandas as pd\n",
    "import numpy as np\n",
    "import datetime"
   ]
  },
  {
   "cell_type": "code",
   "execution_count": null,
   "metadata": {},
   "outputs": [],
   "source": [
    "df = pd.read_excel('Data.xlsx')\n",
    "# Group by 'Nº REMISION \" make the aggregation functions\n",
    "# the same by 'FECHA', sum by everything else\n",
    "df = df.groupby(['Nº REMISION ']).agg({\n",
    "    'FECHA': 'first',\n",
    "    'UND': 'sum',\n",
    "    'KILOS': 'sum',\n",
    "    # Tipo by nunique\n",
    "    'Tipo': pd.Series.nunique,\n",
    "    'p': 'sum',\n",
    "    'r': 'first',\n",
    "    'd': 'first' }).reset_index()\n",
    "# take the r and d columns and convert them to numeric values\n",
    "df['r'] = pd.to_numeric(df['r'])\n",
    "df['d'] = pd.to_numeric(df['d'])\n",
    "display(df)\n",
    "Ordenado = pd.DataFrame(columns=df.columns)\n",
    "def get_CR(row, t):\n",
    "    # get the CR = (d_j - t) / p_j if p_j =0 then CR = 0\n",
    "    if row['p'] == 0:\n",
    "        return 0.0000000000000000000000000000000000000000001\n",
    "    else:\n",
    "        return (row['d'] - t) / row['p']\n",
    "    \n",
    "\n",
    "Cola = df\n",
    "n = len(Cola)\n",
    "t = 0\n",
    "while not Cola.empty:\n",
    "    # get CR\n",
    "    Cola['CR'] = Cola.apply(get_CR, axis=1, args=(t,))\n",
    "    # Ordenar por CR\n",
    "    Cola = Cola.sort_values(by=['CR'], ascending=False)\n",
    "    display(Cola)\n",
    "    # get the 5 first rows\n",
    "    Sacado = Cola.head(5)\n",
    "    # display(Sacado)\n",
    "    # asignar el resto a\n",
    "    if n>=5:\n",
    "        Cola = Cola.tail(n - 5)\n",
    "    else:\n",
    "        break\n",
    "\n",
    "    n = len(Cola)\n",
    "    # append Sacado to the end of Ordenado\n",
    "    Ordenado = Ordenado.append(Sacado)\n",
    "    # display(Ordenado)\n",
    "    # get S and C\n",
    "    #Ordenado = get_S_and_C_working(Ordenado)\n",
    "    # set the t value as the max of the C values\n",
    "    t = max(Ordenado['r'])\n",
    "\n",
    "display(Ordenado)\n",
    "\n",
    "    \n"
   ]
  }
 ],
 "metadata": {
  "kernelspec": {
   "display_name": ".venv",
   "language": "python",
   "name": "python3"
  },
  "language_info": {
   "codemirror_mode": {
    "name": "ipython",
    "version": 3
   },
   "file_extension": ".py",
   "mimetype": "text/x-python",
   "name": "python",
   "nbconvert_exporter": "python",
   "pygments_lexer": "ipython3",
   "version": "3.10.4"
  },
  "orig_nbformat": 4
 },
 "nbformat": 4,
 "nbformat_minor": 2
}
